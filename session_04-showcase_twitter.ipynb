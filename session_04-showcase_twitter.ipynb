{
  "cells": [
    {
      "cell_type": "markdown",
      "metadata": {
        "id": "view-in-github",
        "colab_type": "text"
      },
      "source": [
        "<a href=\"https://colab.research.google.com/github/chrdrn/digital-behavior-data-binder/blob/main/session_04-showcase_twitter.ipynb\" target=\"_parent\"><img src=\"https://colab.research.google.com/assets/colab-badge.svg\" alt=\"Open In Colab\"/></a>"
      ]
    },
    {
      "cell_type": "markdown",
      "source": [
        "<IMG SRC=\"https://raw.githubusercontent.com/chrdrn/digital-behavioral-data/main/img/dbd_hex.png\" WIDTH=15% HEIGHT=15% ALIGN=\"left\" HSPACE=\"20\" VSPACE=\"20\" /> \n",
        "<h1>Disclaimer </h1>\n",
        "<p>For reasons of research ethics and out of respect for privacy the data collected and processed in the course will be managed in a private OSF repository. Students will only have access to this OSF repository for a limited period of time. </p>\n",
        "<p>Although the collection of data is (at least) partially documented in the showcases, detailed instructions can be found in the slides of course for the respective session. </p>\n",
        "<p> Link: <a href=\"https://chrdrn.github.io/digital-behavioral-data/\">https://chrdrn.github.io/digital-behavioral-data/</a>\n",
        "</p>\n",
        "\n",
        "<BR CLEAR=”left” />"
      ],
      "metadata": {
        "id": "_O0EnvwZ0bOc"
      }
    },
    {
      "cell_type": "markdown",
      "source": [
        "---\n",
        "### <img src=\"https://icons.getbootstrap.com/assets/icons/info-circle-fill.svg\" width=\"15\" height=\"15\"> Technical note\n",
        "\n",
        "While the chunk outputs were saved, the data basis was not. For an error-free execution of this notebook, the data must be collected and reloaded. All chunks for which the path to the data must be re-entered are marked with the following symobl: <img src=\"https://icons.getbootstrap.com/assets/icons/database-fill-down.svg\" width=\"15\" height=\"15\">\n"
      ],
      "metadata": {
        "id": "sYsM5o9j0iJF"
      }
    },
    {
      "cell_type": "markdown",
      "source": [
        "---\n",
        "\n",
        "### <img src=\"https://icons.getbootstrap.com/assets/icons/exclamation-triangle-fill.svg\" width=\"15\" height=\"15\"> Important note\n",
        "This session was created before Twitter announced changes to its API access:\n",
        "\n",
        "<blockquote class=\"twitter-tweet\"><p lang=\"en\" dir=\"ltr\">Starting February 9, we will no longer support free access to the Twitter API, both v2 and v1.1. A paid basic tier will be available instead 🧵</p>&mdash; Twitter Dev (@TwitterDev) <a href=\"https://twitter.com/TwitterDev/status/1621026986784337922?ref_src=twsrc%5Etfw\">February 2, 2023</a></blockquote> <script async src=\"https://platform.twitter.com/widgets.js\" charset=\"utf-8\"></script>\n",
        "\n",
        "As things stand (28.02.2023), there will no longer be a free academic research twitter API.\n",
        "\n",
        "----\n"
      ],
      "metadata": {
        "id": "lBOKWcbi2wa7"
      }
    },
    {
      "cell_type": "markdown",
      "metadata": {
        "id": "6Zw3Q-FA-FME"
      },
      "source": [
        "# Background\n",
        "\n",
        "Practical application of the <img src=\"https://raw.githubusercontent.com/FortAwesome/Font-Awesome/6.x/svgs/brands/twitter.svg\" width=\"15\" height=\"15\"> *Twitter Academic Research Product Track v2 API endpoint* with the help of the [academictwitteR](https://github.com/cjbarrie/academictwitteR) package. Visit the <img src=\"https://raw.githubusercontent.com/FortAwesome/Font-Awesome/6.x/svgs/brands/github.svg\" width=\"15\" height=\"15\"> [repository](https://github.com/cjbarrie/academictwitteR) of the package for further information.\n",
        "\n",
        "\n",
        "This version of the Twitter API allows researchers to access larger volumes of Twitter data. For more information on the the Twitter API, including how to apply for access to the Academic Research Product Track, see the [Twitter Developer platform.](https://developer.twitter.com/en/use-cases/do-research/academic-research)"
      ]
    },
    {
      "cell_type": "markdown",
      "metadata": {
        "id": "oCFDGp0rUtAn"
      },
      "source": [
        "## Preparation\n",
        "\n",
        "Install addtional necessary packages\n",
        "\n",
        "⚠ It might take a few minutes to install all packages and dependencies\n",
        "\n"
      ]
    },
    {
      "cell_type": "code",
      "execution_count": null,
      "metadata": {
        "colab": {
          "base_uri": "https://localhost:8080/"
        },
        "id": "XlTzN152Uv0K",
        "outputId": "d32ed286-b522-4e51-ce66-33dd8b860e44",
        "vscode": {
          "languageId": "r"
        }
      },
      "outputs": [
        {
          "output_type": "stream",
          "name": "stderr",
          "text": [
            "Loading required package: here\n",
            "\n",
            "Warning message in library(package, lib.loc = lib.loc, character.only = TRUE, logical.return = TRUE, :\n",
            "“there is no package called ‘here’”\n",
            "Installing package into ‘/usr/local/lib/R/site-library’\n",
            "(as ‘lib’ is unspecified)\n",
            "\n",
            "here() starts at /content\n",
            "\n",
            "Loading required package: academictwitteR\n",
            "\n",
            "Warning message in library(package, lib.loc = lib.loc, character.only = TRUE, logical.return = TRUE, :\n",
            "“there is no package called ‘academictwitteR’”\n",
            "Installing package into ‘/usr/local/lib/R/site-library’\n",
            "(as ‘lib’ is unspecified)\n",
            "\n",
            "Loading required package: sjmisc\n",
            "\n",
            "Warning message in library(package, lib.loc = lib.loc, character.only = TRUE, logical.return = TRUE, :\n",
            "“there is no package called ‘sjmisc’”\n",
            "Installing package into ‘/usr/local/lib/R/site-library’\n",
            "(as ‘lib’ is unspecified)\n",
            "\n",
            "also installing the dependencies ‘datawizard’, ‘insight’, ‘sjlabelled’\n",
            "\n",
            "\n",
            "\n",
            "Attaching package: ‘sjmisc’\n",
            "\n",
            "\n",
            "The following object is masked from ‘package:purrr’:\n",
            "\n",
            "    is_empty\n",
            "\n",
            "\n",
            "The following object is masked from ‘package:tidyr’:\n",
            "\n",
            "    replace_na\n",
            "\n",
            "\n",
            "The following object is masked from ‘package:tibble’:\n",
            "\n",
            "    add_case\n",
            "\n",
            "\n",
            "Loading required package: quanteda\n",
            "\n",
            "Warning message in library(package, lib.loc = lib.loc, character.only = TRUE, logical.return = TRUE, :\n",
            "“there is no package called ‘quanteda’”\n",
            "Installing package into ‘/usr/local/lib/R/site-library’\n",
            "(as ‘lib’ is unspecified)\n",
            "\n",
            "also installing the dependencies ‘ISOcodes’, ‘fastmatch’, ‘Rcpp’, ‘RcppParallel’, ‘SnowballC’, ‘stopwords’, ‘RcppArmadillo’\n",
            "\n",
            "\n",
            "Package version: 3.2.4\n",
            "Unicode version: 13.0\n",
            "ICU version: 66.1\n",
            "\n",
            "Parallel computing: 2 of 2 threads used.\n",
            "\n",
            "See https://quanteda.io for tutorials and examples.\n",
            "\n",
            "Loading required package: quanteda.textstats\n",
            "\n",
            "Warning message in library(package, lib.loc = lib.loc, character.only = TRUE, logical.return = TRUE, :\n",
            "“there is no package called ‘quanteda.textstats’”\n",
            "Installing package into ‘/usr/local/lib/R/site-library’\n",
            "(as ‘lib’ is unspecified)\n",
            "\n",
            "also installing the dependencies ‘nsyllable’, ‘proxyC’\n",
            "\n",
            "\n",
            "Loading required package: quanteda.textplots\n",
            "\n",
            "Warning message in library(package, lib.loc = lib.loc, character.only = TRUE, logical.return = TRUE, :\n",
            "“there is no package called ‘quanteda.textplots’”\n",
            "Installing package into ‘/usr/local/lib/R/site-library’\n",
            "(as ‘lib’ is unspecified)\n",
            "\n",
            "also installing the dependencies ‘coda’, ‘extrafontdb’, ‘Rttf2pt1’, ‘statnet.common’, ‘extrafont’, ‘ggrepel’, ‘sna’, ‘igraph’, ‘network’\n",
            "\n",
            "\n",
            "Loading required package: ggthemes\n",
            "\n",
            "Warning message in library(package, lib.loc = lib.loc, character.only = TRUE, logical.return = TRUE, :\n",
            "“there is no package called ‘ggthemes’”\n",
            "Installing package into ‘/usr/local/lib/R/site-library’\n",
            "(as ‘lib’ is unspecified)\n",
            "\n",
            "Loading required package: ggpubr\n",
            "\n",
            "Warning message in library(package, lib.loc = lib.loc, character.only = TRUE, logical.return = TRUE, :\n",
            "“there is no package called ‘ggpubr’”\n",
            "Installing package into ‘/usr/local/lib/R/site-library’\n",
            "(as ‘lib’ is unspecified)\n",
            "\n",
            "also installing the dependencies ‘numDeriv’, ‘SparseM’, ‘MatrixModels’, ‘minqa’, ‘nloptr’, ‘RcppEigen’, ‘carData’, ‘abind’, ‘pbkrtest’, ‘quantreg’, ‘lme4’, ‘corrplot’, ‘car’, ‘ggsci’, ‘cowplot’, ‘ggsignif’, ‘gridExtra’, ‘polynom’, ‘rstatix’\n",
            "\n",
            "\n"
          ]
        }
      ],
      "source": [
        "if(!require(\"here\")) {install.packages(\"here\"); library(\"here\")}\n",
        "if(!require(\"academictwitteR\")) {install.packages(\"academictwitteR\"); library(\"academictwitteR\")}\n",
        "if(!require(\"lubridate\")) {install.packages(\"lubridate\"); library(\"lubridate\")}\n",
        "if(!require(\"sjmisc\")) {install.packages(\"sjmisc\"); library(\"sjmisc\")}\n",
        "if(!require(\"tidyverse\")) {install.packages(\"tidyverse\"); library(\"tidyverse\")}\n",
        "if(!require(\"quanteda\")) {install.packages(\"quanteda\"); library(\"quanteda\")}\n",
        "if(!require(\"quanteda.textstats\")) {install.packages(\"quanteda.textstats\"); library(\"quanteda.textstats\")}\n",
        "if(!require(\"quanteda.textplots\")) {install.packages(\"quanteda.textplots\"); library(\"quanteda.textplots\")}\n",
        "if(!require(\"ggthemes\")) {install.packages(\"ggthemes\"); library(\"ggthemes\")}\n",
        "if(!require(\"ggpubr\")) {install.packages(\"ggpubr\"); library(\"ggpubr\")}"
      ]
    },
    {
      "cell_type": "markdown",
      "source": [
        "## Set personal bearer token\n"
      ],
      "metadata": {
        "id": "M1mE60l05MzE"
      }
    },
    {
      "cell_type": "code",
      "source": [
        "personal_bearer_token <- \"INSERT BEARER TOKEN HERE\""
      ],
      "metadata": {
        "id": "GomYBqem5PHq"
      },
      "execution_count": null,
      "outputs": []
    },
    {
      "cell_type": "markdown",
      "source": [
        "## Mining tweets: hashtag(s)"
      ],
      "metadata": {
        "id": "4BTLxFG15TKS"
      }
    },
    {
      "cell_type": "markdown",
      "source": [
        "### Data collection"
      ],
      "metadata": {
        "id": "ljhdiJkA5Uma"
      }
    },
    {
      "cell_type": "code",
      "source": [
        "get_all_tweets(\n",
        "    query = \"#Karneval\", \n",
        "    start_tweets = \"2022-11-11T00:00:00Z\",\n",
        "    end_tweets = \"2022-11-13T12:00:00Z\",\n",
        "    file = \"karneval\",\n",
        "    data_path = \"data.local/raw_karneval/\",\n",
        "    n = 100000,\n",
        "    #bearer_token = personal_bearer_token\n",
        "  )"
      ],
      "metadata": {
        "id": "kxDnshZN5Wlg"
      },
      "execution_count": null,
      "outputs": []
    },
    {
      "cell_type": "markdown",
      "source": [
        "\n",
        "#### Read data from local\n"
      ],
      "metadata": {
        "id": "OenYxpeM5du-"
      }
    },
    {
      "cell_type": "code",
      "source": [
        "tweets_karneval <- bind_tweets(\n",
        "  data_path = here(\"content/04-api_access-twitter/data.local/raw_karneval\"),\n",
        "  output_format = \"tidy\") %>% \n",
        "    mutate(\n",
        "    datetime = ymd_hms(created_at),\n",
        "    date = date(datetime),\n",
        "    hour = hour(datetime),\n",
        "    min  = minute(datetime),\n",
        "    hms  = hms::as_hms(datetime),\n",
        "    hm   = hms::parse_hm(hms)\n",
        "  )"
      ],
      "metadata": {
        "id": "kWVyWlmj5h3Q"
      },
      "execution_count": null,
      "outputs": []
    },
    {
      "cell_type": "markdown",
      "source": [
        "### Data analysis"
      ],
      "metadata": {
        "id": "QLQBHWCz5oob"
      }
    },
    {
      "cell_type": "markdown",
      "source": [
        "#### Overview of data set"
      ],
      "metadata": {
        "id": "wLSyRneX5v2f"
      }
    },
    {
      "cell_type": "code",
      "source": [
        "tweets_karneval %>% glimpse"
      ],
      "metadata": {
        "id": "wJGXZKXf5zKG"
      },
      "execution_count": null,
      "outputs": []
    },
    {
      "cell_type": "markdown",
      "source": [
        "#### Language of tweets"
      ],
      "metadata": {
        "id": "W_myh3DA5rFW"
      }
    },
    {
      "cell_type": "code",
      "source": [
        "tweets_karneval %>% glimpse"
      ],
      "metadata": {
        "id": "0eRoTu005tMo"
      },
      "execution_count": null,
      "outputs": []
    },
    {
      "cell_type": "markdown",
      "source": [
        "#### Tweets over time"
      ],
      "metadata": {
        "id": "DAIV_GZ852fR"
      }
    },
    {
      "cell_type": "code",
      "source": [
        "tweets_karneval %>% \n",
        "  ggplot(aes(hour)) +\n",
        "  geom_bar() +\n",
        "  facet_grid(cols = vars(date)) +\n",
        "  theme_pubr()"
      ],
      "metadata": {
        "id": "TXdUMrOy54be"
      },
      "execution_count": null,
      "outputs": []
    },
    {
      "cell_type": "markdown",
      "source": [
        "#### Most frequent time (HH:MM) of sending tweets\n"
      ],
      "metadata": {
        "id": "GeNpX2JO55io"
      }
    },
    {
      "cell_type": "code",
      "source": [
        "tweets_karneval %>%\n",
        "  frq(hm,\n",
        "      sort.frq = \"desc\", \n",
        "      min.frq = 10)"
      ],
      "metadata": {
        "id": "zN47G677565Y"
      },
      "execution_count": null,
      "outputs": []
    },
    {
      "cell_type": "markdown",
      "source": [
        "#### User with the most tweets\n"
      ],
      "metadata": {
        "id": "PSMRfsQN58sC"
      }
    },
    {
      "cell_type": "code",
      "source": [
        "tweets_karneval %>% \n",
        "  frq(user_username,\n",
        "      sort.frq = \"desc\", \n",
        "      min.frq = 5)"
      ],
      "metadata": {
        "id": "oGJd6BsS5_tp"
      },
      "execution_count": null,
      "outputs": []
    },
    {
      "cell_type": "markdown",
      "source": [
        "## Mining tweets: profile(s)\n"
      ],
      "metadata": {
        "id": "oplDEFvf5-oW"
      }
    },
    {
      "cell_type": "markdown",
      "source": [
        "### Data collection\n"
      ],
      "metadata": {
        "id": "-Jnw0nUJ6C8I"
      }
    },
    {
      "cell_type": "code",
      "source": [
        "get_all_tweets(\n",
        "    users = c(\"elonmusk\"),\n",
        "    start_tweets = \"2020-11-11T00:00:00Z\",\n",
        "    end_tweets = \"2022-11-13T12:00:00Z\",\n",
        "    file = \"elonmusk\",\n",
        "    data_path = here(\"content/04-api_access-twitter/data.local/raw_elonmusk/\"),\n",
        "    n = 100000,\n",
        "    bearer_token = personal_bearer_token\n",
        "  )"
      ],
      "metadata": {
        "id": "0BfzPvFP6EOu"
      },
      "execution_count": null,
      "outputs": []
    },
    {
      "cell_type": "markdown",
      "source": [
        "#### Read data from local\n"
      ],
      "metadata": {
        "id": "m4_ZtO3e6G7_"
      }
    },
    {
      "cell_type": "code",
      "source": [
        "tweets_musk <- bind_tweets(\n",
        "  data_path = here(\"content/04-api_access-twitter/data.local/raw_elonmusk\"),\n",
        "  # data_path = \"data/raw_karneval\",\n",
        "  output_format = \"tidy\") %>% \n",
        "    mutate(\n",
        "    datetime = ymd_hms(created_at),\n",
        "    date = date(datetime),\n",
        "    hour = hour(datetime),\n",
        "    min  = minute(datetime),\n",
        "    hms  = hms::as_hms(datetime),\n",
        "    hm   = hms::parse_hm(hms)\n",
        "  )"
      ],
      "metadata": {
        "id": "scnfGl4r6P_5"
      },
      "execution_count": null,
      "outputs": []
    },
    {
      "cell_type": "markdown",
      "source": [
        "### Data analysis"
      ],
      "metadata": {
        "id": "7FyEX2WA6TWw"
      }
    },
    {
      "cell_type": "markdown",
      "source": [
        "#### Overview of dataset\n"
      ],
      "metadata": {
        "id": "kiQwJDjw6V_Y"
      }
    },
    {
      "cell_type": "code",
      "source": [
        "tweets_musk %>% glimpse"
      ],
      "metadata": {
        "id": "OiE8VCyH6U7A"
      },
      "execution_count": null,
      "outputs": []
    },
    {
      "cell_type": "markdown",
      "source": [
        "#### Tweets over time\n"
      ],
      "metadata": {
        "id": "U8RlnF1Y6gta"
      }
    },
    {
      "cell_type": "code",
      "source": [
        "tweets_musk %>% \n",
        "  ggplot(aes(date)) +\n",
        "  geom_bar() +\n",
        "  theme_pubr()"
      ],
      "metadata": {
        "id": "SgH_RnkL6j6y"
      },
      "execution_count": null,
      "outputs": []
    },
    {
      "cell_type": "markdown",
      "source": [
        "#### Tweets with the most likes\n"
      ],
      "metadata": {
        "id": "rvNNn5uQ6mHZ"
      }
    },
    {
      "cell_type": "code",
      "source": [
        "tweets_musk %>% \n",
        "  filter(is.na(sourcetweet_type)) %>% \n",
        "  arrange(-like_count) %>% \n",
        "  select(text, created_at, like_count) %>% \n",
        "  head(10)"
      ],
      "metadata": {
        "id": "P-ROAl6j6nYZ"
      },
      "execution_count": null,
      "outputs": []
    },
    {
      "cell_type": "markdown",
      "source": [
        "#### Tweets with the most retweets\n"
      ],
      "metadata": {
        "id": "40ySG0Kl6o0U"
      }
    },
    {
      "cell_type": "code",
      "source": [
        "tweets_musk %>% \n",
        "  filter(is.na(sourcetweet_type)) %>% \n",
        "  arrange(-retweet_count) %>% \n",
        "  select(text, created_at, retweet_count) %>% \n",
        "  head(10)"
      ],
      "metadata": {
        "id": "U63pr0PR6rfA"
      },
      "execution_count": null,
      "outputs": []
    },
    {
      "cell_type": "markdown",
      "source": [
        "#### Proportion of tweets\n"
      ],
      "metadata": {
        "id": "LRnJLZVM6s34"
      }
    },
    {
      "cell_type": "code",
      "source": [
        "tweets_musk %>% \n",
        "  frq(sourcetweet_type)"
      ],
      "metadata": {
        "id": "6HuWA0Lo6t-O"
      },
      "execution_count": null,
      "outputs": []
    },
    {
      "cell_type": "markdown",
      "source": [
        "#### Languate of tweets\n"
      ],
      "metadata": {
        "id": "MftGVQU86va4"
      }
    },
    {
      "cell_type": "code",
      "source": [
        "tweets_musk %>% \n",
        "  frq(lang)"
      ],
      "metadata": {
        "id": "kPQ5amnY6xPu"
      },
      "execution_count": null,
      "outputs": []
    },
    {
      "cell_type": "markdown",
      "source": [
        "## Text mining\n"
      ],
      "metadata": {
        "id": "sUzlyQl96vQA"
      }
    },
    {
      "cell_type": "markdown",
      "source": [
        "### Preprocessing"
      ],
      "metadata": {
        "id": "P8-BUN7U60Q4"
      }
    },
    {
      "cell_type": "code",
      "source": [
        "remove_html <- \"&amp;|&lt;|&gt;\"\n",
        "\n",
        "tweets_en <- tweets_musk %>% \n",
        "  filter(lang == \"en\",\n",
        "         is.na(sourcetweet_type)) %>% \n",
        "  select(tweet_id, text, user_username) %>% \n",
        "  mutate(text = str_remove_all(text, remove_html))"
      ],
      "metadata": {
        "id": "XaGkF7-961j4"
      },
      "execution_count": null,
      "outputs": []
    },
    {
      "cell_type": "code",
      "source": [
        "tweets_en_corpus <- corpus(\n",
        "  tweets_en,\n",
        "  docid_field = \"tweet_id\",\n",
        "  text_field = \"text\")"
      ],
      "metadata": {
        "id": "A0-agWe566ra"
      },
      "execution_count": null,
      "outputs": []
    },
    {
      "cell_type": "code",
      "source": [
        "tweets_en_tokens <- \n",
        "  tokens(tweets_en_corpus,\n",
        "         remove_punct = TRUE,\n",
        "         remove_numbers = TRUE,\n",
        "         remove_symbols = TRUE,\n",
        "         remove_url = TRUE) %>% \n",
        "  tokens_tolower() %>% \n",
        "  tokens_remove(stopwords(\"english\"))"
      ],
      "metadata": {
        "id": "f1hwdmhX68yV"
      },
      "execution_count": null,
      "outputs": []
    },
    {
      "cell_type": "code",
      "source": [
        "tweets_en_dfm <- dfm(tweets_en_tokens)"
      ],
      "metadata": {
        "id": "7xiUGPq26_N6"
      },
      "execution_count": null,
      "outputs": []
    },
    {
      "cell_type": "markdown",
      "source": [
        "### Analysis\n"
      ],
      "metadata": {
        "id": "-NFFfJO67CdB"
      }
    },
    {
      "cell_type": "markdown",
      "source": [
        "#### Top Hashtags\n"
      ],
      "metadata": {
        "id": "46F5yRWV7DOl"
      }
    },
    {
      "cell_type": "code",
      "source": [
        "tag_dfm <- dfm_select(tweets_en_dfm, pattern = \"#*\")\n",
        "toptag <- names(topfeatures(tag_dfm, 50))\n",
        "head(toptag, 10)"
      ],
      "metadata": {
        "id": "OERUs-zy7FCo"
      },
      "execution_count": null,
      "outputs": []
    },
    {
      "cell_type": "markdown",
      "source": [
        "#### Top Mentions\n"
      ],
      "metadata": {
        "id": "O-SyY4F97Fmr"
      }
    },
    {
      "cell_type": "code",
      "source": [
        "user_dfm <- dfm_select(tweets_en_dfm, pattern = \"@*\")\n",
        "topuser <- names(topfeatures(user_dfm, 50))\n",
        "head(topuser, 10)"
      ],
      "metadata": {
        "id": "Zjb52q7i7HOj"
      },
      "execution_count": null,
      "outputs": []
    },
    {
      "cell_type": "markdown",
      "source": [
        "#### Exclude Hashtags & Metions\n"
      ],
      "metadata": {
        "id": "RPHuDn9H7I_6"
      }
    },
    {
      "cell_type": "code",
      "source": [
        "tweets_en_clean <- tweets_en_dfm %>% \n",
        "  dfm_remove(pattern = \"@*\") %>% \n",
        "  dfm_remove(pattern = \"#*\")"
      ],
      "metadata": {
        "id": "1hwC1ppW7KYY"
      },
      "execution_count": null,
      "outputs": []
    },
    {
      "cell_type": "markdown",
      "source": [
        "#### Top 10 features\n"
      ],
      "metadata": {
        "id": "qatt9LNL7Lum"
      }
    },
    {
      "cell_type": "code",
      "source": [
        "term_freq_en <- textstat_frequency(tweets_en_clean)\n",
        "head(term_freq_en, n = 10)"
      ],
      "metadata": {
        "id": "7wWM7Ce27NOf"
      },
      "execution_count": null,
      "outputs": []
    },
    {
      "cell_type": "markdown",
      "source": [
        "#### Wordcloud with Top 50 features\n"
      ],
      "metadata": {
        "id": "iLP8IFYJ7OB2"
      }
    },
    {
      "cell_type": "code",
      "source": [
        "textplot_wordcloud(tweets_en_clean, max_words = 50)"
      ],
      "metadata": {
        "id": "K_h_ly3w7Pia"
      },
      "execution_count": null,
      "outputs": []
    }
  ],
  "metadata": {
    "colab": {
      "provenance": [],
      "include_colab_link": true
    },
    "kernelspec": {
      "display_name": "R",
      "name": "ir"
    },
    "language_info": {
      "name": "R"
    }
  },
  "nbformat": 4,
  "nbformat_minor": 0
}